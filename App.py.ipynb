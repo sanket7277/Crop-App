{
 "cells": [
  {
   "cell_type": "code",
   "execution_count": 3,
   "id": "9a3370a6-cc09-4e22-8cff-cb4ff621c086",
   "metadata": {},
   "outputs": [],
   "source": [
    "import streamlit as st\n",
    "import pandas as pd\n",
    "import joblib"
   ]
  },
  {
   "cell_type": "code",
   "execution_count": 4,
   "id": "28aec7ed-5a36-4024-9a23-4383a3e1ff50",
   "metadata": {},
   "outputs": [
    {
     "name": "stderr",
     "output_type": "stream",
     "text": [
      "2025-06-24 19:13:54.150 \n",
      "  \u001b[33m\u001b[1mWarning:\u001b[0m to view this Streamlit app on a browser, run it with the following\n",
      "  command:\n",
      "\n",
      "    streamlit run C:\\Users\\Admin\\anaconda3\\Lib\\site-packages\\ipykernel_launcher.py [ARGUMENTS]\n"
     ]
    },
    {
     "data": {
      "text/plain": [
       "DeltaGenerator()"
      ]
     },
     "execution_count": 4,
     "metadata": {},
     "output_type": "execute_result"
    }
   ],
   "source": [
    "model = joblib.load('model.pkl')\n",
    "le = joblib.load('label_encoder.pkl')\n",
    "\n",
    "st.title(\"🌱 Smart Crop Suggestion\")\n"
   ]
  },
  {
   "cell_type": "code",
   "execution_count": 5,
   "id": "10cd5245-3e50-4251-9e74-937b50148f9e",
   "metadata": {},
   "outputs": [
    {
     "name": "stderr",
     "output_type": "stream",
     "text": [
      "2025-06-24 19:14:04.868 Session state does not function when running a script without `streamlit run`\n"
     ]
    }
   ],
   "source": [
    "N = st.number_input(\"Nitrogen (N)\", 0, 150)\n",
    "P = st.number_input(\"Phosphorus (P)\", 0, 150)\n",
    "K = st.number_input(\"Potassium (K)\", 0, 150)\n",
    "temperature = st.number_input(\"Temperature (°C)\", 10.0, 50.0)\n",
    "humidity = st.number_input(\"Humidity (%)\", 10.0, 100.0)\n",
    "ph = st.number_input(\"pH\", 3.5, 9.5)\n",
    "rainfall = st.number_input(\"Rainfall (mm)\", 0.0, 300.0)\n",
    "latitude = st.number_input(\"Latitude\", -90.0, 90.0)\n",
    "longitude = st.number_input(\"Longitude\", -180.0, 180.0)\n"
   ]
  },
  {
   "cell_type": "code",
   "execution_count": 6,
   "id": "0a018e79-6661-40e6-a886-a5ab9a8a622b",
   "metadata": {},
   "outputs": [],
   "source": [
    "if st.button(\"Suggest Crop\"):\n",
    "    input_data = pd.DataFrame([[N, P, K, temperature, humidity, ph, rainfall, latitude, longitude]],\n",
    "                              columns=['N', 'P', 'K', 'temperature', 'humidity', 'pH', 'rainfall', 'latitude', 'longitude'])\n",
    "    prediction = model.predict(input_data)\n",
    "    crop = le.inverse_transform(prediction)[0]\n",
    "    st.success(f\"✅ Recommended Crop: **{crop}**\")"
   ]
  },
  {
   "cell_type": "code",
   "execution_count": null,
   "id": "553575e5-25ee-428b-aebc-bea7cd2ef789",
   "metadata": {},
   "outputs": [],
   "source": []
  }
 ],
 "metadata": {
  "kernelspec": {
   "display_name": "Python 3 (ipykernel)",
   "language": "python",
   "name": "python3"
  },
  "language_info": {
   "codemirror_mode": {
    "name": "ipython",
    "version": 3
   },
   "file_extension": ".py",
   "mimetype": "text/x-python",
   "name": "python",
   "nbconvert_exporter": "python",
   "pygments_lexer": "ipython3",
   "version": "3.12.7"
  }
 },
 "nbformat": 4,
 "nbformat_minor": 5
}
